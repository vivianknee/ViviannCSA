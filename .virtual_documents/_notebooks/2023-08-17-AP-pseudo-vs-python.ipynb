











# Python code if block to match Pseudo Code
a = 1
b = 1
if (a == b):
    # Python uses indent to establish code block, Teacher use tab key
    print("A equals B")






