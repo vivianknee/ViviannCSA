


system.out.println("I am hungryyyy")



