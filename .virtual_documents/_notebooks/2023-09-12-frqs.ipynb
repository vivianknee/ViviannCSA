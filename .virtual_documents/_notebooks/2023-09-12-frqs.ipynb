








public boolean conflictsWith(Appointment other) {
    // get the time interval of this appointment
    TimeInterval thisTime = this.getTime();

    // get the time interval of the other appointment
    TimeInterval otherTime = other.getTime();

    // Check if the time intervals overlap using the overlapsWith method
    return thisTime.overlapsWith(otherTime);
}





public void clearConflicts(Appointment appt)
    //start at 0
    int i = 0;
    //iterate through appt.list
    while (i < apptList.size())
    {
        //use conflictsWith function from part a
        if (appt.conflictsWith((Appointment)(apptList.get(i))))
        {
            apptList.remove(i);
        }
        else
        {
            i++;
        }
    }





public boolean addAppt (Appointment appt, boolean emergency)
{
    //checks if its an emergency
    if (emergency) {
        clearConflicts(appt);
    }
    //else iterate through apptList to look for appt conflicts
    else{
        for (int i = 0; i < apptList.size(); i++) {
            if (appt.conflictsWith((Appointment)(apptList.get(i))))
            {
            return false;
            }
        }
    }
}
return apptList.add(appt);






public class Sign {
    private String message;
    private int line_width;

    public Sign(String message, int line_width) {
        this.message = message;
        this.line_width = line_width;
    }

    public int numberOfLines() {
        if (message == null || message.isEmpty()) {
            return 0;
        }
        String[] lines = message.split("\n");
        int totalLines = 0;
        for (String line : lines) {
            totalLines += line.length() / line_width;
            if (line.length() % line_width != 0) {
                totalLines++;
            }
        }
        return totalLines;
    }

    public String getLines() {
        if (message == null || message.isEmpty()) {
            return null;
        }
        String[] lines = message.split("\n");
        StringBuilder formattedMessage = new StringBuilder();
        for (String line : lines) {
            while (line.length() > line_width) {
                int index = line.lastIndexOf(" ", line_width);
                if (index == -1) {
                    index = line_width;
                }
                formattedMessage.append(line, 0, index).append(";");
                line = line.substring(index + 1);
            }
            formattedMessage.append(line).append(";");
        }
        return formattedMessage.toString().replaceAll(";$", "");
    }

    public static void main(String[] args) {
        // Creating instances of Sign class and testing methods
        Sign sign1 = new Sign("Hello, this is a test message.", 10);
        Sign sign2 = new Sign("This is a longer message that needs more lines.", 20);
        Sign sign3 = new Sign("", 15);

        System.out.println("sign1 numberOfLines: " + sign1.numberOfLines());  // Should print 3
        System.out.println("sign1 getLines: " + sign1.getLines());  // Should print "Hello, this;is a test;message."

        System.out.println("sign2 numberOfLines: " + sign2.numberOfLines());  // Should print 2
        System.out.println("sign2 getLines: " + sign2.getLines());  // Should print "This is a longer;message that needs;more lines."

        System.out.println("sign3 numberOfLines: " + sign3.numberOfLines());  // Should print 0
        System.out.println("sign3 getLines: " + sign3.getLines());  // Should print null
    }
}








public ArrayList<String> getDelimetersList(String[] token){
    ArrayList<String> delimeters = newArrayList<string>(); // Creates empty list to return 
    for(string token : tokens){ // for loop to iterate through tokens list 
        if(token == openDel || token == closeDel) {// if statement to check if token is delimeter
            delimeters.add(token); // appending delimeters array with token
        } // if
    } // for
    return delimeters;
}





public boolean isBalanced(ArrayList<String> delimeters){

    int numOpen = 0; // counters for open delimeters 
    int numClose = 0; // counters for close delimeters 

    for(int i =0; i < delimeters.size(); i++){ // transverse through delimeters list
        String delimeter = delimeters.get(i);  
        if(delimeter == openDel){ 
            numOpen++; // increment open counter
        }
        else{
            numClose++; // increment close counter
        }
        if(numClose >numClose) {
            return false; // condition 1
        }
    }
    if(numClose == numClose) {
        return true; // requirement
    }
    else {
        return false; 
    }
}





// This question involves pieces of candy in a box. The Candy class represents a single piece of candy.
public class Candy
{
    /** Returns a String representing the flavor of this piece of candy */
    public String getFlavor()
    { /* implementation not shown */ }
    // There may be instance variables, constructors, and methods that are not shown.
}
/** The BoxOfCandy class represents a candy box where the candy is arranged in a rectangular grid. The
instance variable of the class, box, is a rectangular two-dimensional array of Candy objects. A location
in the candy box may contain a piece of candy or may be empty. A piece of candy is represented by a
Candy object. An empty location is represented by null.
You will write two methods of the BoxOfCandy class. */
public class BoxOfCandy
{
    /** box contains at least one row and is initialized in the constructor. */
    private Candy[][] box;
    /**
    * Moves one piece of candy in column col, if necessary and possible, so that the box
    * element in row 0 of column col contains a piece of candy, as described in part (a).
    * Returns false if there is no piece of candy in column col and returns true otherwise.
    * Precondition: col is a valid column index in box.
    */
    public boolean moveCandyToFirstRow(int col)
    { /* to be implemented in part (a) */ }
    /**
    * Removes from box and returns a piece of candy with flavor specified by the parameter, or
    * returns null if no such piece is found, as described in part (b)
    */
    public Candy removeNextByFlavor(String flavor)
    { /* to be implemented in part (b) */ }
    // There may be instance variables, constructors, and methods that are not shown.
}





public boolean moveCandyToFirstRow(int col) {
    if(box[0][col] != null)
        return true;
    for(int r = 1; r < box.length; r++) {
        if(box[r][col] != null){
            box[0][col] = box[r][col];
            box[r][col] = null;
            return true;
        }
    }
    return false;
}





public Candy removeNextByFlavor(String flavor)
{
    for(int r = box.length - 1; r >= 0; r--)
    {
        for(int c = 0; c < box[0].length; c++)
        {
            if(box[r][c] != null &&
                    box[r][c].getFlavor().equals(flavor))
            {
                Candy selected = box[r][c];
                box[r][c] = null;
                return selected;
            }
        }
    }
    
    return null;
}
