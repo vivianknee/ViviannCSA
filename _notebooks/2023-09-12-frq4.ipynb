{
 "cells": [
  {
   "cell_type": "markdown",
   "metadata": {},
   "source": [
    "---\n",
    "toc: true\n",
    "comments: true\n",
    "layout: post\n",
    "title: College Board FRQ4\n",
    "description: 4 types \n",
    "courses: { csa: {week: 3} }\n",
    "type: hacks\n",
    "---"
   ]
  },
  {
   "cell_type": "markdown",
   "metadata": {},
   "source": [
    "# FRQ 4 (Isabelle)\n",
    "- used the 2023 frq. [Link](https://apcentral.collegeboard.org/media/pdf/ap23-frq-comp-sci-a.pdf)"
   ]
  },
  {
   "cell_type": "code",
   "execution_count": null,
   "metadata": {
    "vscode": {
     "languageId": "java"
    }
   },
   "outputs": [],
   "source": [
    "// This question involves pieces of candy in a box. The Candy class represents a single piece of candy.\n",
    "public class Candy\n",
    "{\n",
    "    /** Returns a String representing the flavor of this piece of candy */\n",
    "    public String getFlavor()\n",
    "    { /* implementation not shown */ }\n",
    "    // There may be instance variables, constructors, and methods that are not shown.\n",
    "}\n",
    "/** The BoxOfCandy class represents a candy box where the candy is arranged in a rectangular grid. The\n",
    "instance variable of the class, box, is a rectangular two-dimensional array of Candy objects. A location\n",
    "in the candy box may contain a piece of candy or may be empty. A piece of candy is represented by a\n",
    "Candy object. An empty location is represented by null.\n",
    "You will write two methods of the BoxOfCandy class. */\n",
    "public class BoxOfCandy\n",
    "{\n",
    "    /** box contains at least one row and is initialized in the constructor. */\n",
    "    private Candy[][] box;\n",
    "    /**\n",
    "    * Moves one piece of candy in column col, if necessary and possible, so that the box\n",
    "    * element in row 0 of column col contains a piece of candy, as described in part (a).\n",
    "    * Returns false if there is no piece of candy in column col and returns true otherwise.\n",
    "    * Precondition: col is a valid column index in box.\n",
    "    */\n",
    "    public boolean moveCandyToFirstRow(int col)\n",
    "    { /* to be implemented in part (a) */ }\n",
    "    /**\n",
    "    * Removes from box and returns a piece of candy with flavor specified by the parameter, or\n",
    "    * returns null if no such piece is found, as described in part (b)\n",
    "    */\n",
    "    public Candy removeNextByFlavor(String flavor)\n",
    "    { /* to be implemented in part (b) */ }\n",
    "    // There may be instance variables, constructors, and methods that are not shown.\n",
    "}"
   ]
  },
  {
   "cell_type": "markdown",
   "metadata": {},
   "source": [
    "Part (a)\n",
    "- Write the moveCandyToFirstRow method, which attempts to ensure that the box element at row 0 and column col contains a piece of candy, using the following steps.\n",
    "\n",
    "    - If the element at row 0 and column col already contains a piece of candy, then box is unchanged and the method returns true.\n",
    "\n",
    "    - If the element at row 0 and column col does not contain a piece of candy, then the method searches the remaining rows of column col for a piece of candy. If a piece of candy can be found in column col, it is moved to row 0, its previous location is set to null, and the method returns true; otherwise, the method returns false.\n",
    "\n",
    "- In the following example, the grid represents the contents of box. An empty square in the grid is null in box. A non-empty square in the grid represents a box element that contains a Candy object. The string in the square of the grid indicates the flavor of the piece of candy.\n",
    "\n",
    "<img width=\"320\" alt=\"frq4\" src=\"https://github.com/vivianknee/PocketTherapist/assets/82780605/f608a193-119a-4e22-a228-bef1dd88ecd2\">\n",
    "The method call moveCandyToFirstRow(0) returns false because the box element at row 0 and column 0 does not contain a piece of candy and there are no pieces of candy in column 0 that can be moved to row 0. The contents of box are unchanged.\n",
    "\n",
    "The method call moveCandyToFirstRow(1) returns true because the box element at row 0 and column 1 already contains a piece of candy. The contents of box are unchanged.\n",
    "\n",
    "The method call moveCandyToFirstRow(2) moves one of the two pieces of candy in column 2 to row 0 of column 2, sets the previous location of the piece of candy that was moved to null, and returns true. The new contents of box could be either of the following.\n",
    "\n",
    "<img width=\"714\" alt=\"frq4a\" src=\"https://github.com/vivianknee/PocketTherapist/assets/82780605/403dd5b3-d5b7-4f1b-8092-0322789e8d09\">\n"
   ]
  },
  {
   "cell_type": "code",
   "execution_count": null,
   "metadata": {
    "vscode": {
     "languageId": "java"
    }
   },
   "outputs": [],
   "source": [
    "public boolean moveCandyToFirstRow(int col) {\n",
    "    if(box[0][col] != null)\n",
    "        return true;\n",
    "    for(int r = 1; r < box.length; r++) {\n",
    "        if(box[r][col] != null){\n",
    "            box[0][col] = box[r][col];\n",
    "            box[r][col] = null;\n",
    "            return true;\n",
    "        }\n",
    "    }\n",
    "    return false;\n",
    "}"
   ]
  },
  {
   "cell_type": "markdown",
   "metadata": {},
   "source": [
    "Part (b)\n",
    "- Write the removeNextByFlavor method, which attempts to remove and return one piece of candy from the box. The piece of candy to be removed is the first piece of candy with a flavor equal to the parameter flavor that is encountered while traversing the candy box in the following order: the last row of the box is traversed from left to right, then the next-to-last row of the box is traversed from left toright, etc., until either a piece of candy with the desired flavor is found or until the entire candy box has been searched.\n",
    "\n",
    "- If the removeNextByFlavor method finds a Candy object with the desired flavor, the corresponding box element is assigned null, all other box elements are unchanged, and the removed Candy object is returned. Otherwise, box is unchanged and the method returns null.\n",
    "\n",
    "- The following examples show three consecutive calls to the removeNextByFlavor method. The traversal of the candy box always begins in the last row and first column of the box.\n",
    "\n",
    "- The following grid shows the contents of box before any of the removeNextByFlavor method calls.\n",
    "\n",
    "<img width=\"522\" alt=\"frq4b1\" src=\"https://github.com/vivianknee/PocketTherapist/assets/82780605/b61b97d0-d45b-4006-bd12-aef6255d83d8\">\n",
    "- The method call removeNextByFlavor(\"cherry\") removes and returns the Candy object located in row 2 and column 0. The following grid shows the updated contents of box.\n",
    "\n",
    "<img width=\"518\" alt=\"frq4b2\" src=\"https://github.com/vivianknee/PocketTherapist/assets/82780605/4d177652-3e9a-429f-b950-92bfe2c055b7\">\n",
    "- The method call removeNextByFlavor(\"cherry\") removes and returns the Candy object located in row 2 and column 0. The following grid shows the updated contents of box.\n",
    "\n",
    "<img width=\"522\" alt=\"frq4b3\" src=\"https://github.com/vivianknee/PocketTherapist/assets/82780605/1f1a92aa-0b96-4bb6-9655-6d4fbbddf325\">\n",
    "- The method call removeNextByFlavor(\"grape\") returns null because no grape-flavored candy is found. The contents of box are unchanged. Complete the removeNextByFlavor method.\n",
    "\n"
   ]
  },
  {
   "cell_type": "code",
   "execution_count": null,
   "metadata": {
    "vscode": {
     "languageId": "java"
    }
   },
   "outputs": [],
   "source": [
    "public Candy removeNextByFlavor(String flavor)\n",
    "{\n",
    "    for(int r = box.length - 1; r >= 0; r--)\n",
    "    {\n",
    "        for(int c = 0; c < box[0].length; c++)\n",
    "        {\n",
    "            if(box[r][c] != null &&\n",
    "                    box[r][c].getFlavor().equals(flavor))\n",
    "            {\n",
    "                Candy selected = box[r][c];\n",
    "                box[r][c] = null;\n",
    "                return selected;\n",
    "            }\n",
    "        }\n",
    "    }\n",
    "    \n",
    "    return null;\n",
    "}"
   ]
  }
 ],
 "metadata": {
  "kernelspec": {
   "display_name": "Java",
   "language": "java",
   "name": "java"
  },
  "language_info": {
   "codemirror_mode": "java",
   "file_extension": ".jshell",
   "mimetype": "text/x-java-source",
   "name": "Java",
   "pygments_lexer": "java",
   "version": "20.0.2+9-78"
  },
  "orig_nbformat": 4
 },
 "nbformat": 4,
 "nbformat_minor": 2
}
