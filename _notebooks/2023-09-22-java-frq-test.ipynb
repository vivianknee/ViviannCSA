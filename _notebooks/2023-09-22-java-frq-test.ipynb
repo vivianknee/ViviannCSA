{
 "cells": [
  {
   "cell_type": "markdown",
   "metadata": {},
   "source": [
    "---\n",
    "toc: true\n",
    "comments: true\n",
    "layout: post\n",
    "title: FRQ Test\n",
    "description: \n",
    "courses: { csa: {week: 3} }\n",
    "type: hacks\n",
    "---"
   ]
  },
  {
   "cell_type": "code",
   "execution_count": 42,
   "metadata": {
    "vscode": {
     "languageId": "java"
    }
   },
   "outputs": [
    {
     "name": "stdout",
     "output_type": "stream",
     "text": [
      "123\n",
      "456\n",
      "789\n",
      " 0\n"
     ]
    }
   ],
   "source": [
    "public class Main {\n",
    "    \n",
    "    public static void Keypad(String[] args) {\n",
    "        int[][] keyboard = {{1, 2, 3}, {4, 5, 6}, {7, 8, 9}};\n",
    "\n",
    "        for (int row = 0; row < keyboard.length; row++) {\n",
    "            for (int col = 0; col < keyboard[0].length; col++) {\n",
    "                System.out.print(keyboard[row][col]);\n",
    "            }\n",
    "            System.out.println();  \n",
    "        }\n",
    "\n",
    "        System.out.println(\" 0\");  \n",
    "    }\n",
    "}\n",
    "\n",
    "Main.Keypad(null)\n",
    "\n"
   ]
  }
 ],
 "metadata": {
  "kernelspec": {
   "display_name": "Java",
   "language": "java",
   "name": "java"
  },
  "language_info": {
   "codemirror_mode": "java",
   "file_extension": ".jshell",
   "mimetype": "text/x-java-source",
   "name": "Java",
   "pygments_lexer": "java",
   "version": "20.0.2+9-78"
  },
  "orig_nbformat": 4
 },
 "nbformat": 4,
 "nbformat_minor": 2
}
