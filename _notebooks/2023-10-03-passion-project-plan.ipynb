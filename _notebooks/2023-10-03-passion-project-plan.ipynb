{
 "cells": [
  {
   "cell_type": "markdown",
   "metadata": {},
   "source": [
    "---\n",
    "toc: true\n",
    "comments: true\n",
    "layout: post\n",
    "title: Pocket Therapist Plan\n",
    "description: our project plan with iterations\n",
    "courses: { csa: {week: 4} }\n",
    "---"
   ]
  },
  {
   "cell_type": "markdown",
   "metadata": {},
   "source": [
    "# Plan\n",
    "\n",
    "## Roles\n",
    "- Backend Developers\n",
    "    - Tanisha\n",
    "    - Vivian\n",
    "- Frontend Developers\n",
    "    - Sreeja\n",
    "    - Isabelle\n",
    "- Although we split the roles among the group, we still helped each other out with both backend and frontend\n",
    "\n",
    "## Step 1: Familiarizing ourselves with the framework\n",
    "- We are using Spring boot for the backend which is one of the most popular if not the most used Java backend framework. In order to understand what we were working with, we did some research to understand the structure of spring boot and the files that correspond to the different steps in the model. Here is a diagram we created using canva:\n",
    "\n",
    "<img src=\"/images/Backend Model.png\" alt=\"backend model\">\n",
    "\n"
   ]
  },
  {
   "cell_type": "code",
   "execution_count": null,
   "metadata": {},
   "outputs": [],
   "source": []
  }
 ],
 "metadata": {
  "language_info": {
   "name": "python"
  },
  "orig_nbformat": 4
 },
 "nbformat": 4,
 "nbformat_minor": 2
}
