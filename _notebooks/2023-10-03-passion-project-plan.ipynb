{
 "cells": [
  {
   "cell_type": "markdown",
   "metadata": {},
   "source": [
    "---\n",
    "toc: true\n",
    "comments: true\n",
    "layout: post\n",
    "title: Pocket Therapist Plan\n",
    "description: our project plan with iterations\n",
    "courses: { csa: {week: 4} }\n",
    "---"
   ]
  },
  {
   "cell_type": "markdown",
   "metadata": {},
   "source": [
    "# Week 1 Plan\n",
    "\n",
    "## Roles\n",
    "- Backend Developers\n",
    "    - Tanisha\n",
    "    - Vivian\n",
    "- Frontend Developers\n",
    "    - Sreeja\n",
    "    - Isabelle\n",
    "- Although we split the roles among the group, we still helped each other out with both backend and frontend\n",
    "\n",
    "## Familiarizing ourselves with the framework\n",
    "- Backend: Spring Boot\n",
    "- Frontend: Nighthawk Pages\n",
    "- We are using Spring boot for the backend which is one of the most popular if not the most used Java backend framework. In order to understand what we were working with, we did some research to understand the structure of spring boot and the files that correspond to the different steps in the model. Here is a diagram we created using canva:\n",
    "\n",
    "<img src=\"/images/Backend Model.png\" alt=\"backend model\">\n",
    "\n",
    "- This video was very helpful: [Link](https://www.youtube.com/watch?v=9SGDpanrc8U&t=5237s)\n",
    "\n"
   ]
  },
  {
   "cell_type": "markdown",
   "metadata": {},
   "source": [
    "## Setting Up\n",
    "- Frontend: [Link](https://github.com/vivianknee/PocketTherapist) \n",
    "- Backend: [Link](https://github.com/vivianknee/PT_Backend) "
   ]
  },
  {
   "cell_type": "markdown",
   "metadata": {},
   "source": [
    "## Initial Project Idea: Pocket Therapist\n",
    "- Purpose: Understand the user's emotions and provide advice/quotes in response.\n",
    "- How: Uses an AI Face algorithm to accurately detect the users emotion. Send that response to the backend which then picks a random corresponding quote. Frontend fetch calls that quote API which then outputs the quote on the frontend screen.\n",
    "\n",
    "### Project Objectives\n",
    "1. Create a user-friendly interface\n",
    "2. Create a live emotion detector, if make it so photos can be uploaded\n",
    "3. Utilize a Face API to detect images and output emotions\n",
    "4. Create our own unique database of advice and quotes that correspond to the emotions\n",
    "5. Focus on JS for the frontend and Java for the backend\n",
    "\n",
    "### Project Tasks and Timeline\n",
    "1. Frontend (JS HTML)\n",
    "- HTML Formatting (overall sass)\n",
    "- Container for Live Camera\n",
    "- Section for Emotion recognizer result(with corresponding emoji), percent accuracy\n",
    "- Section for a generated quote (From API/Database call)\n",
    "\n",
    "2. Emotions AI (PYTHON)\n",
    "- Open CV integration to live data collection\n",
    "- Find API/Data for the model -- RapidAPI\n",
    "- Training/Testing\n",
    "- Display emotion result, save to global variable\n",
    "- Percent accuracy calculation\n",
    "\n",
    "3. Quote Generation (JAVA)\n",
    "- Access quote based on saved emotion result\n",
    "- create our own quote database\n",
    "- Display successful api/database call"
   ]
  },
  {
   "cell_type": "markdown",
   "metadata": {},
   "source": [
    "## Check Local Servers\n",
    "- Backend\n",
    "    - made sure the local server on the backend was smoothly running\n",
    "    - changed the Dockerfile, docker-compose.yml, and application.properties to a unique port 8077\n",
    "    - personalize backend to fit our project and our learnings\n",
    "    - test to see if api data loads on the local\n",
    "    \n",
    "<img src=\"images/localbackend.png\" alt=\"local backend\">\n",
    "personalized backend\n",
    "\n",
    "<img src=\"images/apittest.png\" alt=\"api test\">\n",
    "working api url\n",
    "\n",
    "\n",
    "- Frontend\n",
    "    - did the whole bundle install process and got the local server running\n",
    "    - deployed with github pages"
   ]
  },
  {
   "cell_type": "markdown",
   "metadata": {},
   "source": [
    "## Deployment\n",
    "- deploy the backend website on AWS, use Route 53 to get custom domain\n",
    "<img src=\"images/domain.png\" alt=\"domain\">"
   ]
  },
  {
   "cell_type": "markdown",
   "metadata": {},
   "source": [
    "## Initial Frontend Design (to be changed)\n",
    "- start with canva to easily plan and design frontend UI\n",
    "- [Link](https://www.canva.com/design/DAFwIs-vV3M/FlDDwAmS_HlP9jl27WcYlQ/edit?utm_content=DAFwIs-vV3M&utm_campaign=designshare&utm_medium=link2&utm_source=sharebutton) to our canva design\n",
    "- this is the initial design we had:\n",
    "<img src=\"/images/frontend1.png\" alt=\"frontend1\">"
   ]
  },
  {
   "cell_type": "markdown",
   "metadata": {},
   "source": [
    "# Week 2 Plan\n"
   ]
  }
 ],
 "metadata": {
  "language_info": {
   "name": "python"
  },
  "orig_nbformat": 4
 },
 "nbformat": 4,
 "nbformat_minor": 2
}
