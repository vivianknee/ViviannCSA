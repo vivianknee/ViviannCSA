{
 "cells": [
  {
   "cell_type": "markdown",
   "metadata": {},
   "source": [
    "---\n",
    "toc: true\n",
    "comments: true\n",
    "layout: post\n",
    "title: College Board FRQ1\n",
    "description: 4 types \n",
    "courses: { csa: {week: 3} }\n",
    "---"
   ]
  },
  {
   "cell_type": "markdown",
   "metadata": {},
   "source": [
    "# FRQ 1 (Vivian)\n",
    "- I used the 2006 frq. [Link](https://secure-media.collegeboard.org/apc/_ap06_frq_computer_sc_51649.pdf)\n",
    "\n",
    "<img width=\"739\" alt=\"frq1\" src=\"https://github.com/vivianknee/PocketTherapist/assets/82780605/e5f6ff5a-8bbd-4580-9ac8-369671ce9106\">\n",
    "\n",
    "<img width=\"690\" alt=\"frq1a\" src=\"https://github.com/vivianknee/PocketTherapist/assets/82780605/9d4f17ec-7607-49f6-94ae-de54f05e58b9\">"
   ]
  },
  {
   "cell_type": "code",
   "execution_count": null,
   "metadata": {
    "vscode": {
     "languageId": "java"
    }
   },
   "outputs": [],
   "source": [
    " //part a solution\n",
    "public boolean conflictsWith(Appointment other) {\n",
    "    // get the time interval of this appointment\n",
    "    TimeInterval thisTime = this.getTime();\n",
    "    \n",
    "    // get the time interval of the other appointment\n",
    "    TimeInterval otherTime = other.getTime();\n",
    "    \n",
    "    // Check if the time intervals overlap using the overlapsWith method\n",
    "    return thisTime.overlapsWith(otherTime);\n",
    "}"
   ]
  },
  {
   "cell_type": "markdown",
   "metadata": {},
   "source": [
    "<img width=\"569\" alt=\"frq1b\" src=\"https://github.com/vivianknee/PocketTherapist/assets/82780605/d8a7bea7-1ceb-4bf4-9897-57ad0c8dbb68\">\n"
   ]
  },
  {
   "cell_type": "code",
   "execution_count": null,
   "metadata": {
    "vscode": {
     "languageId": "java"
    }
   },
   "outputs": [],
   "source": [
    "public void clearConflicts(Appointment appt)\n",
    "    //start at 0\n",
    "    int i = 0;\n",
    "    //iterate through appt.list\n",
    "    while (i < apptList.size())\n",
    "    {\n",
    "        //use conflictsWith function from part a\n",
    "        if (appt.conflictsWith((Appointment)(apptList.get(i))))\n",
    "        {\n",
    "            apptList.remove(i);\n",
    "        }\n",
    "        else\n",
    "        {\n",
    "            i++;\n",
    "        }\n",
    "    }"
   ]
  },
  {
   "cell_type": "markdown",
   "metadata": {},
   "source": [
    "<img width=\"563\" alt=\"frq1c\" src=\"https://github.com/vivianknee/PocketTherapist/assets/82780605/d59be783-b13e-4982-bf15-fb3d7b320ee6\">"
   ]
  },
  {
   "cell_type": "code",
   "execution_count": null,
   "metadata": {
    "vscode": {
     "languageId": "java"
    }
   },
   "outputs": [],
   "source": [
    "public boolean addAppt (Appointment appt, boolean emergency)\n",
    "{\n",
    "    //checks if its an emergency\n",
    "    if (emergency) {\n",
    "        clearConflicts(appt);\n",
    "    }\n",
    "    //else iterate through apptList to look for appt conflicts\n",
    "    else{\n",
    "        for (int i = 0; i < apptList.size(); i++) {\n",
    "            if (appt.conflictsWith((Appointment)(apptList.get(i))))\n",
    "            {\n",
    "            return false;\n",
    "            }\n",
    "        }\n",
    "    }\n",
    "}\n",
    "return apptList.add(appt);"
   ]
  },
  {
   "cell_type": "markdown",
   "metadata": {},
   "source": [
    "Code running Implementation"
   ]
  },
  {
   "cell_type": "code",
   "execution_count": 3,
   "metadata": {
    "vscode": {
     "languageId": "java"
    }
   },
   "outputs": [],
   "source": [
    "public class TimeInterval {\n",
    "    private int startTime;\n",
    "    private int endTime;\n",
    "\n",
    "    public TimeInterval(int startTime, int endTime) {\n",
    "        if (startTime >= endTime) {\n",
    "            throw new IllegalArgumentException(\"Start time must be before end time.\");\n",
    "        }\n",
    "        this.startTime = startTime;\n",
    "        this.endTime = endTime;\n",
    "    }\n",
    "\n",
    "    public boolean overlapsWith(TimeInterval interval) {\n",
    "        return this.startTime < interval.endTime && this.endTime > interval.startTime;\n",
    "    }\n",
    "\n",
    "    public int getStartTime() {\n",
    "        return startTime;\n",
    "    }\n",
    "\n",
    "    public int getEndTime() {\n",
    "        return endTime;\n",
    "    }\n",
    "}\n",
    "\n",
    "public class Appointment {\n",
    "    private TimeInterval timeInterval;\n",
    "\n",
    "    public Appointment(TimeInterval timeInterval) {\n",
    "        this.timeInterval = timeInterval;\n",
    "    }\n",
    "\n",
    "    public TimeInterval getTime() {\n",
    "        return this.timeInterval;\n",
    "    }\n",
    "\n",
    "    //part a solution\n",
    "    public boolean conflictsWith(Appointment other) {\n",
    "        // get the time interval of this appointment\n",
    "        TimeInterval thisTime = this.getTime();\n",
    "    \n",
    "        // get the time interval of the other appointment\n",
    "        TimeInterval otherTime = other.getTime();\n",
    "    \n",
    "        // Check if the time intervals overlap using the overlapsWith method\n",
    "        return thisTime.overlapsWith(otherTime);\n",
    "    }\n",
    "}"
   ]
  },
  {
   "cell_type": "code",
   "execution_count": 4,
   "metadata": {
    "vscode": {
     "languageId": "java"
    }
   },
   "outputs": [],
   "source": [
    "import java.util.ArrayList;\n",
    "\n",
    "public class DailySchedule {\n",
    "    private ArrayList<Appointment> apptList;\n",
    "\n",
    "    public DailySchedule() {\n",
    "        apptList = new ArrayList<>();\n",
    "    }\n",
    "\n",
    "    public void clearConflicts(Appointment appt) {\n",
    "        int i = 0;\n",
    "        while (i < apptList.size()) {\n",
    "            if (appt.conflictsWith(apptList.get(i))) {\n",
    "                apptList.remove(i);\n",
    "            } else {\n",
    "                i++;\n",
    "            }\n",
    "        }\n",
    "    }\n",
    "\n",
    "    public boolean addAppt(Appointment appt, boolean emergency) {\n",
    "        if (emergency) {\n",
    "            clearConflicts(appt);\n",
    "        } else {\n",
    "            for (int i = 0; i < apptList.size(); i++) {\n",
    "                if (appt.conflictsWith(apptList.get(i))) {\n",
    "                    return false;\n",
    "                }\n",
    "            }\n",
    "        }\n",
    "        return apptList.add(appt);\n",
    "    }\n",
    "}"
   ]
  },
  {
   "cell_type": "markdown",
   "metadata": {},
   "source": [
    "testing it out"
   ]
  },
  {
   "cell_type": "code",
   "execution_count": 5,
   "metadata": {
    "vscode": {
     "languageId": "java"
    }
   },
   "outputs": [
    {
     "name": "stdout",
     "output_type": "stream",
     "text": [
      "Appointment 1 added successfully.\n",
      "Appointment 2 added successfully.\n",
      "Conflicting appointment conflicts with an existing appointment.\n"
     ]
    }
   ],
   "source": [
    "public class Main {\n",
    "    public static void main(String[] args) {\n",
    "        // Create a DailySchedule\n",
    "        DailySchedule dailySchedule = new DailySchedule();\n",
    "\n",
    "        // Create time intervals for appointments\n",
    "        TimeInterval morningInterval = new TimeInterval(9, 11);\n",
    "        TimeInterval afternoonInterval = new TimeInterval(14, 16);\n",
    "\n",
    "        // Create appointments\n",
    "        Appointment appointment1 = new Appointment(morningInterval);\n",
    "        Appointment appointment2 = new Appointment(afternoonInterval);\n",
    "\n",
    "        // Add appointments to the schedule\n",
    "        boolean added1 = dailySchedule.addAppt(appointment1, false);\n",
    "        boolean added2 = dailySchedule.addAppt(appointment2, false);\n",
    "\n",
    "        // Check if appointments were added successfully\n",
    "        if (added1) {\n",
    "            System.out.println(\"Appointment 1 added successfully.\");\n",
    "        } else {\n",
    "            System.out.println(\"Appointment 1 conflicts with an existing appointment.\");\n",
    "        }\n",
    "\n",
    "        if (added2) {\n",
    "            System.out.println(\"Appointment 2 added successfully.\");\n",
    "        } else {\n",
    "            System.out.println(\"Appointment 2 conflicts with an existing appointment.\");\n",
    "        }\n",
    "\n",
    "        // Try to add an appointment that conflicts with an existing one\n",
    "        TimeInterval conflictingInterval = new TimeInterval(10, 12);\n",
    "        Appointment conflictingAppointment = new Appointment(conflictingInterval);\n",
    "\n",
    "        boolean addedConflicting = dailySchedule.addAppt(conflictingAppointment, false);\n",
    "\n",
    "        if (addedConflicting) {\n",
    "            System.out.println(\"Conflicting appointment added successfully.\");\n",
    "        } else {\n",
    "            System.out.println(\"Conflicting appointment conflicts with an existing appointment.\");\n",
    "        }\n",
    "    }\n",
    "}\n",
    "\n",
    "Main.main(null);"
   ]
  },
  {
   "cell_type": "markdown",
   "metadata": {},
   "source": [
    "[Link](https://github.com/vivianknee/FastPages/issues/50#issue-1906239331) to Peer Review \n",
    "\n",
    "# Takeaways\n",
    "- Using classes and methods makes the code neat and easier to work with.\n",
    "- data structures like ArrayList can store and manage a collection of objects (appointments) efficiently\n",
    "- preparing for unexpected issues in the code ensures it runs smoothly."
   ]
  }
 ],
 "metadata": {
  "kernelspec": {
   "display_name": "Java",
   "language": "java",
   "name": "java"
  },
  "language_info": {
   "codemirror_mode": "java",
   "file_extension": ".jshell",
   "mimetype": "text/x-java-source",
   "name": "Java",
   "pygments_lexer": "java",
   "version": "20.0.2+9-78"
  }
 },
 "nbformat": 4,
 "nbformat_minor": 4
}
