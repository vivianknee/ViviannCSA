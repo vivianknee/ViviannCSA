{
 "cells": [
  {
   "cell_type": "markdown",
   "metadata": {},
   "source": [
    "---\n",
    "toc: true\n",
    "comments: true\n",
    "layout: post\n",
    "title: College Board FRQ1\n",
    "description: 4 types \n",
    "courses: { csa: {week: 3} }\n",
    "type: none\n",
    "---"
   ]
  },
  {
   "cell_type": "markdown",
   "metadata": {},
   "source": [
    "\n",
    "[Link](https://github.com/vivianknee/FastPages/issues/50#issue-1906239331) to Peer Review "
   ]
  },
  {
   "cell_type": "markdown",
   "metadata": {},
   "source": [
    "# FRQ 1 (Vivian)\n",
    "- I used the 2006 frq. [Link](https://secure-media.collegeboard.org/apc/_ap06_frq_computer_sc_51649.pdf)\n",
    "\n",
    "<img width=\"739\" alt=\"frq1\" src=\"https://github.com/vivianknee/PocketTherapist/assets/82780605/e5f6ff5a-8bbd-4580-9ac8-369671ce9106\">\n",
    "\n",
    "<img width=\"690\" alt=\"frq1a\" src=\"https://github.com/vivianknee/PocketTherapist/assets/82780605/9d4f17ec-7607-49f6-94ae-de54f05e58b9\">"
   ]
  },
  {
   "cell_type": "code",
   "execution_count": null,
   "metadata": {
    "vscode": {
     "languageId": "java"
    }
   },
   "outputs": [],
   "source": [
    "public boolean conflictsWith(Appointment other) {\n",
    "    // get the time interval of this appointment\n",
    "    TimeInterval thisTime = this.getTime();\n",
    "\n",
    "    // get the time interval of the other appointment\n",
    "    TimeInterval otherTime = other.getTime();\n",
    "\n",
    "    // Check if the time intervals overlap using the overlapsWith method\n",
    "    return thisTime.overlapsWith(otherTime);\n",
    "}"
   ]
  },
  {
   "cell_type": "markdown",
   "metadata": {},
   "source": [
    "<img width=\"569\" alt=\"frq1b\" src=\"https://github.com/vivianknee/PocketTherapist/assets/82780605/d8a7bea7-1ceb-4bf4-9897-57ad0c8dbb68\">\n"
   ]
  },
  {
   "cell_type": "code",
   "execution_count": null,
   "metadata": {
    "vscode": {
     "languageId": "java"
    }
   },
   "outputs": [],
   "source": [
    "public void clearConflicts(Appointment appt)\n",
    "    //start at 0\n",
    "    int i = 0;\n",
    "    //iterate through appt.list\n",
    "    while (i < apptList.size())\n",
    "    {\n",
    "        //use conflictsWith function from part a\n",
    "        if (appt.conflictsWith((Appointment)(apptList.get(i))))\n",
    "        {\n",
    "            apptList.remove(i);\n",
    "        }\n",
    "        else\n",
    "        {\n",
    "            i++;\n",
    "        }\n",
    "    }"
   ]
  },
  {
   "cell_type": "markdown",
   "metadata": {},
   "source": [
    "<img width=\"563\" alt=\"frq1c\" src=\"https://github.com/vivianknee/PocketTherapist/assets/82780605/d59be783-b13e-4982-bf15-fb3d7b320ee6\">"
   ]
  },
  {
   "cell_type": "code",
   "execution_count": null,
   "metadata": {
    "vscode": {
     "languageId": "java"
    }
   },
   "outputs": [],
   "source": [
    "public boolean addAppt (Appointment appt, boolean emergency)\n",
    "{\n",
    "    //checks if its an emergency\n",
    "    if (emergency) {\n",
    "        clearConflicts(appt);\n",
    "    }\n",
    "    //else iterate through apptList to look for appt conflicts\n",
    "    else{\n",
    "        for (int i = 0; i < apptList.size(); i++) {\n",
    "            if (appt.conflictsWith((Appointment)(apptList.get(i))))\n",
    "            {\n",
    "            return false;\n",
    "            }\n",
    "        }\n",
    "    }\n",
    "}\n",
    "return apptList.add(appt);"
   ]
  }
 ],
 "metadata": {
  "kernelspec": {
   "display_name": "Java",
   "language": "java",
   "name": "java"
  },
  "language_info": {
   "codemirror_mode": "java",
   "file_extension": ".jshell",
   "mimetype": "text/x-java-source",
   "name": "Java",
   "pygments_lexer": "java",
   "version": "20.0.2+9-78"
  },
  "orig_nbformat": 4
 },
 "nbformat": 4,
 "nbformat_minor": 2
}
