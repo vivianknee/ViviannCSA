{
 "cells": [
  {
   "cell_type": "markdown",
   "metadata": {},
   "source": [
    "---\n",
    "layout: post\n",
    "title: Individual Project Plan\n",
    "description: code and commits\n",
    "type: hacks\n",
    "courses: { csa: {week: 9} }\n",
    "---"
   ]
  },
  {
   "cell_type": "markdown",
   "metadata": {},
   "source": [
    "## Plan\n",
    "- on quotes.md, use a post-JS to post new quotes to the database. Ensure that when the page is refreshed, the added quote still remains. \n",
    "- on gallery.md, use a get fetch call to update the page with all the new quotes, including quotes that were added on quotes.md. \n",
    "- gallery.md will also have JS code to format and display each quote with HTML and CSS in a more efficient way\n",
    "\n",
    "## Commits"
   ]
  },
  {
   "cell_type": "markdown",
   "metadata": {},
   "source": [
    "### Backend (JAVA and Spring boot learning)\n",
    "- Creating QuoteGeneration.java [commit](https://github.com/vivianknee/PT_Backend/commit/325638045a69756b6baa685da06d20727d192fbc)\n",
    "- Bean annotation to create a database and cleaner java file [commit](https://github.com/vivianknee/PT_Backend/commit/d32b823543e7241d7a4b7027f5428f3fa4ed948c)\n",
    "- creating data and populating database [commit](https://github.com/vivianknee/PT_Backend/commit/dbaef665fc2c73f5e20d06ca3bdf6227b4661a76)\n",
    "- deployment modifications [commit](https://github.com/vivianknee/PT_Backend/commit/64084228cbd4234f3f26e134ac2e2c16b341695c)"
   ]
  },
  {
   "cell_type": "code",
   "execution_count": null,
   "metadata": {
    "vscode": {
     "languageId": "java"
    }
   },
   "outputs": [],
   "source": [
    "package com.nighthawk.spring_portfolio.mvc.quote;\n",
    "\n",
    "import org.springframework.boot.CommandLineRunner;\n",
    "import org.springframework.context.annotation.Bean;\n",
    "import org.springframework.context.annotation.Configuration;\n",
    "\n",
    "import java.util.List;\n",
    "\n",
    "@Configuration\n",
    "public class QuoteGeneration {\n",
    "\n",
    "    @Bean\n",
    "    CommandLineRunner commandLineRunner(\n",
    "            QuoteJpaRepository repository) {\n",
    "        return args -> {\n",
    "            Quote q1 = new Quote(\n",
    "                \"When life gives you lemons, make lemonade\", \n",
    "                \"happy\"\n",
    "            ); \n",
    "\n",
    "            Quote q2 = new Quote(\n",
    "                \"Keep calm and carry on\", \n",
    "                \"sad\"\n",
    "            );\n",
    "\n",
    "            Quote q3 = new Quote(\n",
    "                \"Believe in yourself, and you'll achieve great things.\", \n",
    "                \"sad\"\n",
    "            );\n",
    "\n",
    "            repository.saveAll(\n",
    "                    List.of(q1, q2, q3)\n",
    "            );\n",
    "        };\n",
    "    }\n",
    "}"
   ]
  },
  {
   "cell_type": "markdown",
   "metadata": {},
   "source": [
    "### Frontend (JS)\n",
    "- Writing get method and formatting with JS for gallery quotes page [commit](https://github.com/vivianknee/PocketTherapist/commit/c32cff8e0774e9c4473909daa5ad28d02432ee10)"
   ]
  },
  {
   "cell_type": "code",
   "execution_count": null,
   "metadata": {
    "vscode": {
     "languageId": "javascript"
    }
   },
   "outputs": [],
   "source": [
    "function getAllQuotes() {\n",
    "    fetch('https://ptbackend.stu.nighthawkcodingsociety.com/api/quote/').then(function(response) {\n",
    "        return response.json();\n",
    "    }).then(function(data) {\n",
    "        console.log(data);\n",
    "    }).catch(function(err){\n",
    "        console.log(err);\n",
    "    });\n",
    "}\n",
    "\n",
    "getAllQuotes();\n",
    "\n",
    "function processQuotes(quotes) {\n",
    "    // find the root div\n",
    "     quotes.forEach(quote =>{\n",
    "        //outer most div\n",
    "        const root_div = document.getElementById(\"quote-root\");\n",
    "\n",
    "        //individual quote div\n",
    "        const quote_div = document.createElement(\"div\");\n",
    "        quote_div.className = \"img-wrapper\";\n",
    "\n",
    "        //img inside quote div\n",
    "        const img = document.createElement('img');\n",
    "        img.src = \"{{ site.baseurl }}/images/happy.png\";\n",
    "        img.className = \"blur\";\n",
    "\n",
    "        //content aka quote inside quote div\n",
    "        const content_div = document.createElement(\"div\");\n",
    "        content_div.className = \"content fade\";\n",
    "        content_div.innerHTML += quote.quote;\n",
    "\n",
    "        //append img and content to quote div\n",
    "        quote_div.appendChild(img);\n",
    "        quote_div.appendChild(content_div);\n",
    "\n",
    "        root_div.appendChild(quote_div);\n",
    "    });\n",
    "}\n",
    "\n",
    "processQuotes(quotes);"
   ]
  },
  {
   "cell_type": "markdown",
   "metadata": {},
   "source": [
    "### Design (HTML and CSS)\n",
    "- front page design and nav bar [commit](https://github.com/vivianknee/PocketTherapist/commit/62c5492a3fc62bc629ad4b9676ff4642b3891e5b)\n",
    "- setting up quote.md and gallery.md files. basic HTML and CSS design [commit](https://github.com/vivianknee/PocketTherapist/commit/e641ee96129b60bf0c34e57bd1c4905849f2d094)"
   ]
  },
  {
   "cell_type": "markdown",
   "metadata": {},
   "source": [
    "### Issues\n",
    "- CORS yay!\n",
    "- had to change the CORS headers in the nginx file on AWS to get CORS to work. below is what I added.\n",
    "- now that CORS is bypassed, I can start locally testing POST methods on the frontend"
   ]
  },
  {
   "cell_type": "code",
   "execution_count": null,
   "metadata": {
    "vscode": {
     "languageId": "php"
    }
   },
   "outputs": [],
   "source": [
    "# Preflighted requests\n",
    "        if ($request_method = OPTIONS ) {\n",
    "                add_header \"Access-Control-Allow-Headers\" \"access-control-allow-origin, access-control-allow-credentials, Content-Type, Authorization, x-csrf-token\";\n",
    "                add_header \"Access-Control-Allow-Credentials\"  \"true\";\n",
    "                add_header \"Access-Control-Allow-Origin\"  \"https://vivianknee.github.io\";\n",
    "                add_header \"Access-Control-Allow-Methods\" \"GET, POST, OPTIONS, HEAD\";\n",
    "                add_header \"Access-Control-Allow-MaxAge\"  600;\n",
    "                return 200;\n",
    "        }"
   ]
  }
 ],
 "metadata": {
  "language_info": {
   "name": "python"
  }
 },
 "nbformat": 4,
 "nbformat_minor": 2
}
