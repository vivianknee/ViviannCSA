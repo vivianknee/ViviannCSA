{
 "cells": [
  {
   "cell_type": "markdown",
   "metadata": {},
   "source": [
    "---\n",
    "toc: true\n",
    "comments: true\n",
    "layout: post\n",
    "title: College Board FRQ2\n",
    "description: 4 types \n",
    "courses: { csa: {week: 3} }\n",
    "type: none\n",
    "---"
   ]
  },
  {
   "cell_type": "markdown",
   "metadata": {},
   "source": [
    "# College Board FRQs\n",
    "- FRQ No. 1: Methods and Control Structures\n",
    "- FRQ No. 2: Classes\n",
    "- FRQ No. 3: Array/ArrayList\n",
    "- FRQ No. 4: 2D Array\n",
    "\n",
    "[Link](https://github.com/vivianknee/FastPages/issues/50#issue-1906239331) to Peer Review "
   ]
  },
  {
   "cell_type": "markdown",
   "metadata": {},
   "source": [
    "## FRQ 2 (Sreeja)\n",
    "- used the 2023 frq. [Link](https://apcentral.collegeboard.org/media/pdf/ap23-frq-comp-sci-a.pdf)\n",
    "\n",
    "![frq2](https://github.com/vivianknee/PocketTherapist/assets/82780605/e241987d-7ca7-4dc2-85a4-5b685eaba352)\n",
    "![frq2a](https://github.com/vivianknee/PocketTherapist/assets/82780605/5cbf4c8f-024c-4f3f-993e-002e824c670e)\n",
    "\n",
    "### Requirements\n",
    "- Class Description: Develop a Sign class.\n",
    "- Constructor: The class should have a constructor that accepts two arguments:\n",
    "    - A string message to be presented on the sign.\n",
    "    - An integer representing the line width for each line on the sign.\n",
    "- numberOfLines Method: Create a method named numberOfLines, which calculates and provides the count of lines required to exhibit the message on the sign.\n",
    "- getLines Method: Implement a method named getLines that divides the message into lines separated by semicolons (;) or returns None if the message is empty. Ensure that no semicolon appears at the end of the resulting string.\n",
    "- Testing: Instantiate instances of the Sign class with varying parameters and conduct tests on the numberOfLines and getLines methods to verify their correctness."
   ]
  },
  {
   "cell_type": "code",
   "execution_count": null,
   "metadata": {
    "vscode": {
     "languageId": "java"
    }
   },
   "outputs": [],
   "source": [
    "\n",
    "public class Sign {\n",
    "    private String message;\n",
    "    private int line_width;\n",
    "\n",
    "    public Sign(String message, int line_width) {\n",
    "        this.message = message;\n",
    "        this.line_width = line_width;\n",
    "    }\n",
    "\n",
    "    public int numberOfLines() {\n",
    "        if (message == null || message.isEmpty()) {\n",
    "            return 0;\n",
    "        }\n",
    "        String[] lines = message.split(\"\\n\");\n",
    "        int totalLines = 0;\n",
    "        for (String line : lines) {\n",
    "            totalLines += line.length() / line_width;\n",
    "            if (line.length() % line_width != 0) {\n",
    "                totalLines++;\n",
    "            }\n",
    "        }\n",
    "        return totalLines;\n",
    "    }\n",
    "\n",
    "    public String getLines() {\n",
    "        if (message == null || message.isEmpty()) {\n",
    "            return null;\n",
    "        }\n",
    "        String[] lines = message.split(\"\\n\");\n",
    "        StringBuilder formattedMessage = new StringBuilder();\n",
    "        for (String line : lines) {\n",
    "            while (line.length() > line_width) {\n",
    "                int index = line.lastIndexOf(\" \", line_width);\n",
    "                if (index == -1) {\n",
    "                    index = line_width;\n",
    "                }\n",
    "                formattedMessage.append(line, 0, index).append(\";\");\n",
    "                line = line.substring(index + 1);\n",
    "            }\n",
    "            formattedMessage.append(line).append(\";\");\n",
    "        }\n",
    "        return formattedMessage.toString().replaceAll(\";$\", \"\");\n",
    "    }\n",
    "\n",
    "    public static void main(String[] args) {\n",
    "        // Creating instances of Sign class and testing methods\n",
    "        Sign sign1 = new Sign(\"Hello, this is a test message.\", 10);\n",
    "        Sign sign2 = new Sign(\"This is a longer message that needs more lines.\", 20);\n",
    "        Sign sign3 = new Sign(\"\", 15);\n",
    "\n",
    "        System.out.println(\"sign1 numberOfLines: \" + sign1.numberOfLines());  // Should print 3\n",
    "        System.out.println(\"sign1 getLines: \" + sign1.getLines());  // Should print \"Hello, this;is a test;message.\"\n",
    "\n",
    "        System.out.println(\"sign2 numberOfLines: \" + sign2.numberOfLines());  // Should print 2\n",
    "        System.out.println(\"sign2 getLines: \" + sign2.getLines());  // Should print \"This is a longer;message that needs;more lines.\"\n",
    "\n",
    "        System.out.println(\"sign3 numberOfLines: \" + sign3.numberOfLines());  // Should print 0\n",
    "        System.out.println(\"sign3 getLines: \" + sign3.getLines());  // Should print null\n",
    "    }\n",
    "}"
   ]
  },
  {
   "cell_type": "markdown",
   "metadata": {},
   "source": [
    "### Explanation of Code\n",
    "- The Sign class is defined with a constructor that takes two parameters: message (a string to be displayed on the sign) and width (an integer representing the width of each line on the sign).\n",
    "- The numberOfLines method calculates and returns the number of lines needed to display the text on the sign. It checks if the message is empty and handles that case accordingly.\n",
    "- The getLines method breaks the message into lines of the specified width, separated by semicolons (;), or returns None if the message is empty. It uses list comprehension to split the message into lines and then joins them using semicolons.\n",
    "- In the testing section, three instances of the Sign class are created with different parameters. The numberOfLines and getLines methods are called on each instance to test their behavior.\n",
    "- The output of the testing section demonstrates how the numberOfLines and getLines methods work for various cases, including an empty message."
   ]
  }
 ],
 "metadata": {
  "kernelspec": {
   "display_name": "Java",
   "language": "java",
   "name": "java"
  },
  "language_info": {
   "codemirror_mode": "java",
   "file_extension": ".jshell",
   "mimetype": "text/x-java-source",
   "name": "Java",
   "pygments_lexer": "java",
   "version": "20.0.2+9-78"
  },
  "orig_nbformat": 4
 },
 "nbformat": 4,
 "nbformat_minor": 2
}
