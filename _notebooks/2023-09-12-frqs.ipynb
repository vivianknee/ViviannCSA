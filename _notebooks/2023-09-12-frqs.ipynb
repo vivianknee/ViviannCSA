{
 "cells": [
  {
   "cell_type": "markdown",
   "metadata": {},
   "source": [
    "---\n",
    "toc: true\n",
    "comments: true\n",
    "layout: post\n",
    "title: College Board FRQ's\n",
    "description: 4 types \n",
    "courses: { csa: {week: 3} }\n",
    "type: hacks\n",
    "---"
   ]
  },
  {
   "cell_type": "markdown",
   "metadata": {},
   "source": [
    "# College Board FRQs\n",
    "- FRQ No. 1: Methods and Control Structures\n",
    "- FRQ No. 2: Classes\n",
    "- FRQ No. 3: Array/ArrayList\n",
    "- FRQ No. 4: 2D Array\n",
    "\n",
    "## FRQ 1\n",
    "- I used the 2006 frq. [Link](https://secure-media.collegeboard.org/apc/_ap06_frq_computer_sc_51649.pdf)\n",
    "[frq1](/images/frq1.png)\n",
    "[frq1a](/images/frq1a.png)\n"
   ]
  },
  {
   "cell_type": "code",
   "execution_count": null,
   "metadata": {
    "vscode": {
     "languageId": "java"
    }
   },
   "outputs": [],
   "source": [
    "public boolean conflictsWith(Appointment other) {\n",
    "    // get the time interval of this appointment\n",
    "    TimeInterval thisTime = this.getTime();\n",
    "\n",
    "    // get the time interval of the other appointment\n",
    "    TimeInterval otherTime = other.getTime();\n",
    "\n",
    "    // Check if the time intervals overlap using the overlapsWith method\n",
    "    return thisTime.overlapsWith(otherTime);\n",
    "}"
   ]
  },
  {
   "cell_type": "markdown",
   "metadata": {},
   "source": [
    "[frq1b](/images/frq1b.png)\n"
   ]
  },
  {
   "cell_type": "code",
   "execution_count": null,
   "metadata": {
    "vscode": {
     "languageId": "java"
    }
   },
   "outputs": [],
   "source": [
    "public void clearConflicts(Appointment appt)\n",
    "    //start at 0\n",
    "    int i = 0;\n",
    "    //iterate through appt.list\n",
    "    while (i < apptList.size())\n",
    "    {\n",
    "        //use conflictsWith function from part a\n",
    "        if (appt.conflictsWith((Appointment)(apptList.get(i))))\n",
    "        {\n",
    "            apptList.remove(i);\n",
    "        }\n",
    "        else\n",
    "        {\n",
    "            i++;\n",
    "        }\n",
    "    }"
   ]
  },
  {
   "cell_type": "markdown",
   "metadata": {},
   "source": [
    "[frq1c](/images/frq1c.png)\n"
   ]
  },
  {
   "cell_type": "code",
   "execution_count": null,
   "metadata": {
    "vscode": {
     "languageId": "java"
    }
   },
   "outputs": [],
   "source": [
    "public boolean addAppt (Appointment appt, boolean emergency)\n",
    "{\n",
    "    //checks if its an emergency\n",
    "    if (emergency) {\n",
    "        clearConflicts(appt);\n",
    "    }\n",
    "    //else iterate through apptList to look for appt conflicts\n",
    "    else{\n",
    "        for (int i = 0; i < apptList.size(); i++) {\n",
    "            if (appt.conflictsWith((Appointment)(apptList.get(i))))\n",
    "            {\n",
    "            return false;\n",
    "            }\n",
    "        }\n",
    "    }\n",
    "}\n",
    "return apptList.add(appt);"
   ]
  }
 ],
 "metadata": {
  "language_info": {
   "name": "python"
  },
  "orig_nbformat": 4
 },
 "nbformat": 4,
 "nbformat_minor": 2
}
