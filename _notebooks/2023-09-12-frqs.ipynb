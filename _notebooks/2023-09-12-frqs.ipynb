{
 "cells": [
  {
   "cell_type": "markdown",
   "metadata": {},
   "source": [
    "---\n",
    "toc: true\n",
    "comments: true\n",
    "layout: post\n",
    "title: College Board FRQ\n",
    "description: 4 types \n",
    "courses: { csa: {week: 3} }\n",
    "type: hacks\n",
    "---"
   ]
  },
  {
   "cell_type": "markdown",
   "metadata": {},
   "source": [
    "# College Board FRQs\n",
    "- FRQ No. 1: Methods and Control Structures\n",
    "- FRQ No. 2: Classes\n",
    "- FRQ No. 3: Array/ArrayList\n",
    "- FRQ No. 4: 2D Array\n",
    "\n",
    "[Link]() to Peer Review\n",
    "[Link]() to Video"
   ]
  },
  {
   "cell_type": "markdown",
   "metadata": {},
   "source": [
    "## FRQ 1 (Vivian)\n",
    "- I used the 2006 frq. [Link](https://secure-media.collegeboard.org/apc/_ap06_frq_computer_sc_51649.pdf)\n",
    "\n",
    "<img width=\"739\" alt=\"frq1\" src=\"https://github.com/vivianknee/PocketTherapist/assets/82780605/e5f6ff5a-8bbd-4580-9ac8-369671ce9106\">\n",
    "\n",
    "<img width=\"690\" alt=\"frq1a\" src=\"https://github.com/vivianknee/PocketTherapist/assets/82780605/9d4f17ec-7607-49f6-94ae-de54f05e58b9\">"
   ]
  },
  {
   "cell_type": "code",
   "execution_count": null,
   "metadata": {
    "vscode": {
     "languageId": "java"
    }
   },
   "outputs": [],
   "source": [
    "public boolean conflictsWith(Appointment other) {\n",
    "    // get the time interval of this appointment\n",
    "    TimeInterval thisTime = this.getTime();\n",
    "\n",
    "    // get the time interval of the other appointment\n",
    "    TimeInterval otherTime = other.getTime();\n",
    "\n",
    "    // Check if the time intervals overlap using the overlapsWith method\n",
    "    return thisTime.overlapsWith(otherTime);\n",
    "}"
   ]
  },
  {
   "cell_type": "markdown",
   "metadata": {},
   "source": [
    "<img width=\"569\" alt=\"frq1b\" src=\"https://github.com/vivianknee/PocketTherapist/assets/82780605/d8a7bea7-1ceb-4bf4-9897-57ad0c8dbb68\">\n"
   ]
  },
  {
   "cell_type": "code",
   "execution_count": null,
   "metadata": {
    "vscode": {
     "languageId": "java"
    }
   },
   "outputs": [],
   "source": [
    "public void clearConflicts(Appointment appt)\n",
    "    //start at 0\n",
    "    int i = 0;\n",
    "    //iterate through appt.list\n",
    "    while (i < apptList.size())\n",
    "    {\n",
    "        //use conflictsWith function from part a\n",
    "        if (appt.conflictsWith((Appointment)(apptList.get(i))))\n",
    "        {\n",
    "            apptList.remove(i);\n",
    "        }\n",
    "        else\n",
    "        {\n",
    "            i++;\n",
    "        }\n",
    "    }"
   ]
  },
  {
   "cell_type": "markdown",
   "metadata": {},
   "source": [
    "<img width=\"563\" alt=\"frq1c\" src=\"https://github.com/vivianknee/PocketTherapist/assets/82780605/d59be783-b13e-4982-bf15-fb3d7b320ee6\">"
   ]
  },
  {
   "cell_type": "code",
   "execution_count": null,
   "metadata": {
    "vscode": {
     "languageId": "java"
    }
   },
   "outputs": [],
   "source": [
    "public boolean addAppt (Appointment appt, boolean emergency)\n",
    "{\n",
    "    //checks if its an emergency\n",
    "    if (emergency) {\n",
    "        clearConflicts(appt);\n",
    "    }\n",
    "    //else iterate through apptList to look for appt conflicts\n",
    "    else{\n",
    "        for (int i = 0; i < apptList.size(); i++) {\n",
    "            if (appt.conflictsWith((Appointment)(apptList.get(i))))\n",
    "            {\n",
    "            return false;\n",
    "            }\n",
    "        }\n",
    "    }\n",
    "}\n",
    "return apptList.add(appt);"
   ]
  },
  {
   "cell_type": "markdown",
   "metadata": {},
   "source": [
    "## FRQ 2 (Sreeja)\n",
    "- used the 2023 frq. [Link](https://apcentral.collegeboard.org/media/pdf/ap23-frq-comp-sci-a.pdf)\n",
    "\n",
    "![frq2](https://github.com/vivianknee/PocketTherapist/assets/82780605/e241987d-7ca7-4dc2-85a4-5b685eaba352)\n",
    "![frq2a](https://github.com/vivianknee/PocketTherapist/assets/82780605/5cbf4c8f-024c-4f3f-993e-002e824c670e)\n",
    "\n",
    "### Requirements\n",
    "- Class Description: Develop a Sign class.\n",
    "- Constructor: The class should have a constructor that accepts two arguments:\n",
    "    - A string message to be presented on the sign.\n",
    "    - An integer representing the line width for each line on the sign.\n",
    "- numberOfLines Method: Create a method named numberOfLines, which calculates and provides the count of lines required to exhibit the message on the sign.\n",
    "- getLines Method: Implement a method named getLines that divides the message into lines separated by semicolons (;) or returns None if the message is empty. Ensure that no semicolon appears at the end of the resulting string.\n",
    "- Testing: Instantiate instances of the Sign class with varying parameters and conduct tests on the numberOfLines and getLines methods to verify their correctness."
   ]
  },
  {
   "cell_type": "code",
   "execution_count": null,
   "metadata": {
    "vscode": {
     "languageId": "java"
    }
   },
   "outputs": [],
   "source": [
    "\n",
    "public class Sign {\n",
    "    private String message;\n",
    "    private int line_width;\n",
    "\n",
    "    public Sign(String message, int line_width) {\n",
    "        this.message = message;\n",
    "        this.line_width = line_width;\n",
    "    }\n",
    "\n",
    "    public int numberOfLines() {\n",
    "        if (message == null || message.isEmpty()) {\n",
    "            return 0;\n",
    "        }\n",
    "        String[] lines = message.split(\"\\n\");\n",
    "        int totalLines = 0;\n",
    "        for (String line : lines) {\n",
    "            totalLines += line.length() / line_width;\n",
    "            if (line.length() % line_width != 0) {\n",
    "                totalLines++;\n",
    "            }\n",
    "        }\n",
    "        return totalLines;\n",
    "    }\n",
    "\n",
    "    public String getLines() {\n",
    "        if (message == null || message.isEmpty()) {\n",
    "            return null;\n",
    "        }\n",
    "        String[] lines = message.split(\"\\n\");\n",
    "        StringBuilder formattedMessage = new StringBuilder();\n",
    "        for (String line : lines) {\n",
    "            while (line.length() > line_width) {\n",
    "                int index = line.lastIndexOf(\" \", line_width);\n",
    "                if (index == -1) {\n",
    "                    index = line_width;\n",
    "                }\n",
    "                formattedMessage.append(line, 0, index).append(\";\");\n",
    "                line = line.substring(index + 1);\n",
    "            }\n",
    "            formattedMessage.append(line).append(\";\");\n",
    "        }\n",
    "        return formattedMessage.toString().replaceAll(\";$\", \"\");\n",
    "    }\n",
    "\n",
    "    public static void main(String[] args) {\n",
    "        // Creating instances of Sign class and testing methods\n",
    "        Sign sign1 = new Sign(\"Hello, this is a test message.\", 10);\n",
    "        Sign sign2 = new Sign(\"This is a longer message that needs more lines.\", 20);\n",
    "        Sign sign3 = new Sign(\"\", 15);\n",
    "\n",
    "        System.out.println(\"sign1 numberOfLines: \" + sign1.numberOfLines());  // Should print 3\n",
    "        System.out.println(\"sign1 getLines: \" + sign1.getLines());  // Should print \"Hello, this;is a test;message.\"\n",
    "\n",
    "        System.out.println(\"sign2 numberOfLines: \" + sign2.numberOfLines());  // Should print 2\n",
    "        System.out.println(\"sign2 getLines: \" + sign2.getLines());  // Should print \"This is a longer;message that needs;more lines.\"\n",
    "\n",
    "        System.out.println(\"sign3 numberOfLines: \" + sign3.numberOfLines());  // Should print 0\n",
    "        System.out.println(\"sign3 getLines: \" + sign3.getLines());  // Should print null\n",
    "    }\n",
    "}"
   ]
  },
  {
   "cell_type": "markdown",
   "metadata": {},
   "source": [
    "### Explanation of Code\n",
    "- The Sign class is defined with a constructor that takes two parameters: message (a string to be displayed on the sign) and width (an integer representing the width of each line on the sign).\n",
    "- The numberOfLines method calculates and returns the number of lines needed to display the text on the sign. It checks if the message is empty and handles that case accordingly.\n",
    "- The getLines method breaks the message into lines of the specified width, separated by semicolons (;), or returns None if the message is empty. It uses list comprehension to split the message into lines and then joins them using semicolons.\n",
    "- In the testing section, three instances of the Sign class are created with different parameters. The numberOfLines and getLines methods are called on each instance to test their behavior.\n",
    "- The output of the testing section demonstrates how the numberOfLines and getLines methods work for various cases, including an empty message."
   ]
  },
  {
   "cell_type": "markdown",
   "metadata": {},
   "source": [
    "## FRQ 3 (Tanisha)\n",
    "<img width=\"613\" alt=\"frq3\" src=\"https://github.com/vivianknee/PocketTherapist/assets/82780605/c00443b9-1a32-4bd2-b7a9-c8e751825b48\">\n",
    "\n",
    "Part A: Complete the method getDelimetersList. Requirements: Returns an ArrayList of delimeters from the array tokens.\n",
    "<img width=\"1143\" alt=\"frq3a\" src=\"https://github.com/vivianknee/PocketTherapist/assets/82780605/408b0193-10c1-4285-b1c5-30f497c0500d\">\n"
   ]
  },
  {
   "cell_type": "code",
   "execution_count": null,
   "metadata": {
    "vscode": {
     "languageId": "java"
    }
   },
   "outputs": [],
   "source": [
    "public ArrayList<String> getDelimetersList(String[] token){\n",
    "    ArrayList<String> delimeters = newArrayList<string>(); // Creates empty list to return \n",
    "    for(string token : tokens){ // for loop to iterate through tokens list \n",
    "        if(token == openDel || token == closeDel) {// if statement to check if token is delimeter\n",
    "            delimeters.add(token); // appending delimeters array with token\n",
    "        } // if\n",
    "    } // for\n",
    "    return delimeters;\n",
    "}"
   ]
  },
  {
   "cell_type": "markdown",
   "metadata": {},
   "source": [
    "<img width=\"688\" alt=\"frq3b\" src=\"https://github.com/vivianknee/PocketTherapist/assets/82780605/cacf7eb7-66ee-4f87-9125-d3669a420c81\">\n"
   ]
  },
  {
   "cell_type": "code",
   "execution_count": null,
   "metadata": {
    "vscode": {
     "languageId": "java"
    }
   },
   "outputs": [],
   "source": [
    "public boolean isBalanced(ArrayList<String> delimeters){\n",
    "\n",
    "    int numOpen = 0; // counters for open delimeters \n",
    "    int numClose = 0; // counters for close delimeters \n",
    "\n",
    "    for(int i =0; i < delimeters.size(); i++){ // transverse through delimeters list\n",
    "        String delimeter = delimeters.get(i);  \n",
    "        if(delimeter == openDel){ \n",
    "            numOpen++; // increment open counter\n",
    "        }\n",
    "        else{\n",
    "            numClose++; // increment close counter\n",
    "        }\n",
    "        if(numClose >numClose) {\n",
    "            return false; // condition 1\n",
    "        }\n",
    "    }\n",
    "    if(numClose == numClose) {\n",
    "        return true; // requirement\n",
    "    }\n",
    "    else {\n",
    "        return false; \n",
    "    }\n",
    "}"
   ]
  },
  {
   "cell_type": "markdown",
   "metadata": {},
   "source": [
    "## FRQ 4 (Isabelle)\n",
    "- used the 2023 frq. [Link](https://apcentral.collegeboard.org/media/pdf/ap23-frq-comp-sci-a.pdf)"
   ]
  },
  {
   "cell_type": "code",
   "execution_count": null,
   "metadata": {
    "vscode": {
     "languageId": "java"
    }
   },
   "outputs": [],
   "source": [
    "// This question involves pieces of candy in a box. The Candy class represents a single piece of candy.\n",
    "public class Candy\n",
    "{\n",
    "    /** Returns a String representing the flavor of this piece of candy */\n",
    "    public String getFlavor()\n",
    "    { /* implementation not shown */ }\n",
    "    // There may be instance variables, constructors, and methods that are not shown.\n",
    "}\n",
    "/** The BoxOfCandy class represents a candy box where the candy is arranged in a rectangular grid. The\n",
    "instance variable of the class, box, is a rectangular two-dimensional array of Candy objects. A location\n",
    "in the candy box may contain a piece of candy or may be empty. A piece of candy is represented by a\n",
    "Candy object. An empty location is represented by null.\n",
    "You will write two methods of the BoxOfCandy class. */\n",
    "public class BoxOfCandy\n",
    "{\n",
    "    /** box contains at least one row and is initialized in the constructor. */\n",
    "    private Candy[][] box;\n",
    "    /**\n",
    "    * Moves one piece of candy in column col, if necessary and possible, so that the box\n",
    "    * element in row 0 of column col contains a piece of candy, as described in part (a).\n",
    "    * Returns false if there is no piece of candy in column col and returns true otherwise.\n",
    "    * Precondition: col is a valid column index in box.\n",
    "    */\n",
    "    public boolean moveCandyToFirstRow(int col)\n",
    "    { /* to be implemented in part (a) */ }\n",
    "    /**\n",
    "    * Removes from box and returns a piece of candy with flavor specified by the parameter, or\n",
    "    * returns null if no such piece is found, as described in part (b)\n",
    "    */\n",
    "    public Candy removeNextByFlavor(String flavor)\n",
    "    { /* to be implemented in part (b) */ }\n",
    "    // There may be instance variables, constructors, and methods that are not shown.\n",
    "}"
   ]
  },
  {
   "cell_type": "markdown",
   "metadata": {},
   "source": [
    "Part (a)\n",
    "- Write the moveCandyToFirstRow method, which attempts to ensure that the box element at row 0 and column col contains a piece of candy, using the following steps.\n",
    "\n",
    "    - If the element at row 0 and column col already contains a piece of candy, then box is unchanged and the method returns true.\n",
    "\n",
    "    - If the element at row 0 and column col does not contain a piece of candy, then the method searches the remaining rows of column col for a piece of candy. If a piece of candy can be found in column col, it is moved to row 0, its previous location is set to null, and the method returns true; otherwise, the method returns false.\n",
    "\n",
    "- In the following example, the grid represents the contents of box. An empty square in the grid is null in box. A non-empty square in the grid represents a box element that contains a Candy object. The string in the square of the grid indicates the flavor of the piece of candy.\n",
    "\n",
    "<img width=\"320\" alt=\"frq4\" src=\"https://github.com/vivianknee/PocketTherapist/assets/82780605/f608a193-119a-4e22-a228-bef1dd88ecd2\">\n",
    "The method call moveCandyToFirstRow(0) returns false because the box element at row 0 and column 0 does not contain a piece of candy and there are no pieces of candy in column 0 that can be moved to row 0. The contents of box are unchanged.\n",
    "\n",
    "The method call moveCandyToFirstRow(1) returns true because the box element at row 0 and column 1 already contains a piece of candy. The contents of box are unchanged.\n",
    "\n",
    "The method call moveCandyToFirstRow(2) moves one of the two pieces of candy in column 2 to row 0 of column 2, sets the previous location of the piece of candy that was moved to null, and returns true. The new contents of box could be either of the following.\n",
    "\n",
    "<img width=\"714\" alt=\"frq4a\" src=\"https://github.com/vivianknee/PocketTherapist/assets/82780605/403dd5b3-d5b7-4f1b-8092-0322789e8d09\">\n"
   ]
  },
  {
   "cell_type": "code",
   "execution_count": null,
   "metadata": {
    "vscode": {
     "languageId": "java"
    }
   },
   "outputs": [],
   "source": [
    "public boolean moveCandyToFirstRow(int col) {\n",
    "    if(box[0][col] != null)\n",
    "        return true;\n",
    "    for(int r = 1; r < box.length; r++) {\n",
    "        if(box[r][col] != null){\n",
    "            box[0][col] = box[r][col];\n",
    "            box[r][col] = null;\n",
    "            return true;\n",
    "        }\n",
    "    }\n",
    "    return false;\n",
    "}"
   ]
  },
  {
   "cell_type": "markdown",
   "metadata": {},
   "source": [
    "Part (b)\n",
    "- Write the removeNextByFlavor method, which attempts to remove and return one piece of candy from the box. The piece of candy to be removed is the first piece of candy with a flavor equal to the parameter flavor that is encountered while traversing the candy box in the following order: the last row of the box is traversed from left to right, then the next-to-last row of the box is traversed from left toright, etc., until either a piece of candy with the desired flavor is found or until the entire candy box has been searched.\n",
    "\n",
    "- If the removeNextByFlavor method finds a Candy object with the desired flavor, the corresponding box element is assigned null, all other box elements are unchanged, and the removed Candy object is returned. Otherwise, box is unchanged and the method returns null.\n",
    "\n",
    "- The following examples show three consecutive calls to the removeNextByFlavor method. The traversal of the candy box always begins in the last row and first column of the box.\n",
    "\n",
    "- The following grid shows the contents of box before any of the removeNextByFlavor method calls.\n",
    "\n",
    "<img width=\"522\" alt=\"frq4b1\" src=\"https://github.com/vivianknee/PocketTherapist/assets/82780605/b61b97d0-d45b-4006-bd12-aef6255d83d8\">\n",
    "- The method call removeNextByFlavor(\"cherry\") removes and returns the Candy object located in row 2 and column 0. The following grid shows the updated contents of box.\n",
    "\n",
    "<img width=\"518\" alt=\"frq4b2\" src=\"https://github.com/vivianknee/PocketTherapist/assets/82780605/4d177652-3e9a-429f-b950-92bfe2c055b7\">\n",
    "- The method call removeNextByFlavor(\"cherry\") removes and returns the Candy object located in row 2 and column 0. The following grid shows the updated contents of box.\n",
    "\n",
    "<img width=\"522\" alt=\"frq4b3\" src=\"https://github.com/vivianknee/PocketTherapist/assets/82780605/1f1a92aa-0b96-4bb6-9655-6d4fbbddf325\">\n",
    "- The method call removeNextByFlavor(\"grape\") returns null because no grape-flavored candy is found. The contents of box are unchanged. Complete the removeNextByFlavor method.\n",
    "\n"
   ]
  },
  {
   "cell_type": "code",
   "execution_count": null,
   "metadata": {
    "vscode": {
     "languageId": "java"
    }
   },
   "outputs": [],
   "source": [
    "public Candy removeNextByFlavor(String flavor)\n",
    "{\n",
    "    for(int r = box.length - 1; r >= 0; r--)\n",
    "    {\n",
    "        for(int c = 0; c < box[0].length; c++)\n",
    "        {\n",
    "            if(box[r][c] != null &&\n",
    "                    box[r][c].getFlavor().equals(flavor))\n",
    "            {\n",
    "                Candy selected = box[r][c];\n",
    "                box[r][c] = null;\n",
    "                return selected;\n",
    "            }\n",
    "        }\n",
    "    }\n",
    "    \n",
    "    return null;\n",
    "}"
   ]
  }
 ],
 "metadata": {
  "kernelspec": {
   "display_name": "Java",
   "language": "java",
   "name": "java"
  },
  "language_info": {
   "codemirror_mode": "java",
   "file_extension": ".jshell",
   "mimetype": "text/x-java-source",
   "name": "Java",
   "pygments_lexer": "java",
   "version": "20.0.2+9-78"
  },
  "orig_nbformat": 4
 },
 "nbformat": 4,
 "nbformat_minor": 2
}
