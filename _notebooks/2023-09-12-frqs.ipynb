{
 "cells": [
  {
   "cell_type": "markdown",
   "metadata": {},
   "source": [
    "---\n",
    "toc: true\n",
    "comments: true\n",
    "layout: post\n",
    "title: College Board FRQ's\n",
    "description: 4 types \n",
    "courses: { csa: {week: 3} }\n",
    "type: hacks\n",
    "---"
   ]
  },
  {
   "cell_type": "markdown",
   "metadata": {},
   "source": [
    "# College Board FRQs\n",
    "- FRQ No. 1: Methods and Control Structures\n",
    "- FRQ No. 2: Classes\n",
    "- FRQ No. 3: Array/ArrayList\n",
    "- FRQ No. 4: 2D Array\n",
    "\n",
    "## FRQ 1 (Vivian)\n",
    "- I used the 2006 frq. [Link](https://secure-media.collegeboard.org/apc/_ap06_frq_computer_sc_51649.pdf)\n",
    "[frq1](/images/frq1.png)\n",
    "[frq1a](/images/frq1a.png)\n"
   ]
  },
  {
   "cell_type": "code",
   "execution_count": null,
   "metadata": {
    "vscode": {
     "languageId": "java"
    }
   },
   "outputs": [],
   "source": [
    "public boolean conflictsWith(Appointment other) {\n",
    "    // get the time interval of this appointment\n",
    "    TimeInterval thisTime = this.getTime();\n",
    "\n",
    "    // get the time interval of the other appointment\n",
    "    TimeInterval otherTime = other.getTime();\n",
    "\n",
    "    // Check if the time intervals overlap using the overlapsWith method\n",
    "    return thisTime.overlapsWith(otherTime);\n",
    "}"
   ]
  },
  {
   "cell_type": "markdown",
   "metadata": {},
   "source": [
    "[frq1b](/images/frq1b.png)\n"
   ]
  },
  {
   "cell_type": "code",
   "execution_count": null,
   "metadata": {
    "vscode": {
     "languageId": "java"
    }
   },
   "outputs": [],
   "source": [
    "public void clearConflicts(Appointment appt)\n",
    "    //start at 0\n",
    "    int i = 0;\n",
    "    //iterate through appt.list\n",
    "    while (i < apptList.size())\n",
    "    {\n",
    "        //use conflictsWith function from part a\n",
    "        if (appt.conflictsWith((Appointment)(apptList.get(i))))\n",
    "        {\n",
    "            apptList.remove(i);\n",
    "        }\n",
    "        else\n",
    "        {\n",
    "            i++;\n",
    "        }\n",
    "    }"
   ]
  },
  {
   "cell_type": "markdown",
   "metadata": {},
   "source": [
    "[frq1c](/images/frq1c.png)\n"
   ]
  },
  {
   "cell_type": "code",
   "execution_count": null,
   "metadata": {
    "vscode": {
     "languageId": "java"
    }
   },
   "outputs": [],
   "source": [
    "public boolean addAppt (Appointment appt, boolean emergency)\n",
    "{\n",
    "    //checks if its an emergency\n",
    "    if (emergency) {\n",
    "        clearConflicts(appt);\n",
    "    }\n",
    "    //else iterate through apptList to look for appt conflicts\n",
    "    else{\n",
    "        for (int i = 0; i < apptList.size(); i++) {\n",
    "            if (appt.conflictsWith((Appointment)(apptList.get(i))))\n",
    "            {\n",
    "            return false;\n",
    "            }\n",
    "        }\n",
    "    }\n",
    "}\n",
    "return apptList.add(appt);"
   ]
  },
  {
   "cell_type": "markdown",
   "metadata": {},
   "source": [
    "## FRQ 2 (Sreeja)\n",
    "[frq2](/images/frq2.png)\n",
    "[frq2a](/images/frq2a.png)\n",
    "### Requirements\n",
    "- Class Description: Develop a Sign class.\n",
    "- Constructor: The class should have a constructor that accepts two arguments:\n",
    "    - A string message to be presented on the sign.\n",
    "    - An integer representing the line width for each line on the sign.\n",
    "- numberOfLines Method: Create a method named numberOfLines, which calculates and provides the count of lines required to exhibit the message on the sign.\n",
    "- getLines Method: Implement a method named getLines that divides the message into lines separated by semicolons (;) or returns None if the message is empty. Ensure that no semicolon appears at the end of the resulting string.\n",
    "- Testing: Instantiate instances of the Sign class with varying parameters and conduct tests on the numberOfLines and getLines methods to verify their correctness."
   ]
  },
  {
   "cell_type": "code",
   "execution_count": null,
   "metadata": {},
   "outputs": [],
   "source": [
    "\n",
    "\n",
    "     "
   ]
  },
  {
   "cell_type": "markdown",
   "metadata": {},
   "source": [
    "### Explanation of Code\n",
    "- The Sign class is defined with a constructor that takes two parameters: message (a string to be displayed on the sign) and width (an integer representing the width of each line on the sign).\n",
    "- The numberOfLines method calculates and returns the number of lines needed to display the text on the sign. It checks if the message is empty and handles that case accordingly.\n",
    "- The getLines method breaks the message into lines of the specified width, separated by semicolons (;), or returns None if the message is empty. It uses list comprehension to split the message into lines and then joins them using semicolons.\n",
    "- In the testing section, three instances of the Sign class are created with different parameters. The numberOfLines and getLines methods are called on each instance to test their behavior.\n",
    "- The output of the testing section demonstrates how the numberOfLines and getLines methods work for various cases, including an empty message."
   ]
  }
 ],
 "metadata": {
  "language_info": {
   "name": "python"
  },
  "orig_nbformat": 4
 },
 "nbformat": 4,
 "nbformat_minor": 2
}
