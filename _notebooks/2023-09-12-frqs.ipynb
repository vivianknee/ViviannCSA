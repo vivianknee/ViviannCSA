{
 "cells": [
  {
   "cell_type": "markdown",
   "metadata": {},
   "source": [
    "---\n",
    "toc: true\n",
    "comments: true\n",
    "layout: post\n",
    "title: College Board FRQ's\n",
    "description: 4 types \n",
    "courses: { csa: {week: 3} }\n",
    "type: hacks\n",
    "---"
   ]
  },
  {
   "cell_type": "markdown",
   "metadata": {},
   "source": [
    "# College Board FRQs\n",
    "- FRQ No. 1: Methods and Control Structures\n",
    "- FRQ No. 2: Classes\n",
    "- FRQ No. 3: Array/ArrayList\n",
    "- FRQ No. 4: 2D Array\n",
    "\n",
    "[Link]() to Peer Review\n",
    "[Link]() to Video"
   ]
  },
  {
   "cell_type": "markdown",
   "metadata": {},
   "source": [
    "## FRQ 1 (Vivian)\n",
    "- I used the 2006 frq. [Link](https://secure-media.collegeboard.org/apc/_ap06_frq_computer_sc_51649.pdf)\n",
    "[frq1](/images/frq1.png)\n",
    "[frq1a](/images/frq1a.png)"
   ]
  },
  {
   "cell_type": "code",
   "execution_count": null,
   "metadata": {
    "vscode": {
     "languageId": "java"
    }
   },
   "outputs": [],
   "source": [
    "public boolean conflictsWith(Appointment other) {\n",
    "    // get the time interval of this appointment\n",
    "    TimeInterval thisTime = this.getTime();\n",
    "\n",
    "    // get the time interval of the other appointment\n",
    "    TimeInterval otherTime = other.getTime();\n",
    "\n",
    "    // Check if the time intervals overlap using the overlapsWith method\n",
    "    return thisTime.overlapsWith(otherTime);\n",
    "}"
   ]
  },
  {
   "cell_type": "markdown",
   "metadata": {},
   "source": [
    "[frq1b](/images/frq1b.png)\n"
   ]
  },
  {
   "cell_type": "code",
   "execution_count": null,
   "metadata": {
    "vscode": {
     "languageId": "java"
    }
   },
   "outputs": [],
   "source": [
    "public void clearConflicts(Appointment appt)\n",
    "    //start at 0\n",
    "    int i = 0;\n",
    "    //iterate through appt.list\n",
    "    while (i < apptList.size())\n",
    "    {\n",
    "        //use conflictsWith function from part a\n",
    "        if (appt.conflictsWith((Appointment)(apptList.get(i))))\n",
    "        {\n",
    "            apptList.remove(i);\n",
    "        }\n",
    "        else\n",
    "        {\n",
    "            i++;\n",
    "        }\n",
    "    }"
   ]
  },
  {
   "cell_type": "markdown",
   "metadata": {},
   "source": [
    "[frq1c](/images/frq1c.png)\n"
   ]
  },
  {
   "cell_type": "code",
   "execution_count": null,
   "metadata": {
    "vscode": {
     "languageId": "java"
    }
   },
   "outputs": [],
   "source": [
    "public boolean addAppt (Appointment appt, boolean emergency)\n",
    "{\n",
    "    //checks if its an emergency\n",
    "    if (emergency) {\n",
    "        clearConflicts(appt);\n",
    "    }\n",
    "    //else iterate through apptList to look for appt conflicts\n",
    "    else{\n",
    "        for (int i = 0; i < apptList.size(); i++) {\n",
    "            if (appt.conflictsWith((Appointment)(apptList.get(i))))\n",
    "            {\n",
    "            return false;\n",
    "            }\n",
    "        }\n",
    "    }\n",
    "}\n",
    "return apptList.add(appt);"
   ]
  },
  {
   "cell_type": "markdown",
   "metadata": {},
   "source": [
    "## FRQ 2 (Sreeja)\n",
    "[frq2](/images/frq2.png)\n",
    "[frq2a](/images/frq2a.png)\n",
    "### Requirements\n",
    "- Class Description: Develop a Sign class.\n",
    "- Constructor: The class should have a constructor that accepts two arguments:\n",
    "    - A string message to be presented on the sign.\n",
    "    - An integer representing the line width for each line on the sign.\n",
    "- numberOfLines Method: Create a method named numberOfLines, which calculates and provides the count of lines required to exhibit the message on the sign.\n",
    "- getLines Method: Implement a method named getLines that divides the message into lines separated by semicolons (;) or returns None if the message is empty. Ensure that no semicolon appears at the end of the resulting string.\n",
    "- Testing: Instantiate instances of the Sign class with varying parameters and conduct tests on the numberOfLines and getLines methods to verify their correctness."
   ]
  },
  {
   "cell_type": "code",
   "execution_count": null,
   "metadata": {},
   "outputs": [],
   "source": [
    "\n",
    "\n",
    "     "
   ]
  },
  {
   "cell_type": "markdown",
   "metadata": {},
   "source": [
    "### Explanation of Code\n",
    "- The Sign class is defined with a constructor that takes two parameters: message (a string to be displayed on the sign) and width (an integer representing the width of each line on the sign).\n",
    "- The numberOfLines method calculates and returns the number of lines needed to display the text on the sign. It checks if the message is empty and handles that case accordingly.\n",
    "- The getLines method breaks the message into lines of the specified width, separated by semicolons (;), or returns None if the message is empty. It uses list comprehension to split the message into lines and then joins them using semicolons.\n",
    "- In the testing section, three instances of the Sign class are created with different parameters. The numberOfLines and getLines methods are called on each instance to test their behavior.\n",
    "- The output of the testing section demonstrates how the numberOfLines and getLines methods work for various cases, including an empty message."
   ]
  },
  {
   "cell_type": "markdown",
   "metadata": {},
   "source": [
    "## FRQ 3 (Tanisha)\n",
    "[frq3](/images/frq3.png)\n",
    "\n",
    "Part A: Complete the method getDelimetersList. Requirements: Returns an ArrayList of delimeters from the array tokens.\n",
    "[frq3a](/images/frq3a.png)"
   ]
  },
  {
   "cell_type": "code",
   "execution_count": null,
   "metadata": {
    "vscode": {
     "languageId": "java"
    }
   },
   "outputs": [],
   "source": [
    "public ArrayList<String> getDelimetersList(String[] token){\n",
    "    ArrayList<String> delimeters = newArrayList<string>(); // Creates empty list to return \n",
    "    for(string token : tokens){ // for loop to iterate through tokens list \n",
    "        if(token == openDel || token == closeDel) {// if statement to check if token is delimeter\n",
    "            delimeters.add(token); // appending delimeters array with token\n",
    "        } // if\n",
    "    } // for\n",
    "    return delimeters;\n",
    "}"
   ]
  },
  {
   "cell_type": "markdown",
   "metadata": {},
   "source": [
    "[frq3b](/images/frq3b.png)"
   ]
  },
  {
   "cell_type": "code",
   "execution_count": null,
   "metadata": {
    "vscode": {
     "languageId": "java"
    }
   },
   "outputs": [],
   "source": [
    "public boolean isBalanced(ArrayList<String> delimeters){\n",
    "\n",
    "    int numOpen = 0; // counters for open delimeters \n",
    "    int numClose = 0; // counters for close delimeters \n",
    "\n",
    "    for(int i =0; i < delimeters.size(); i++){ // transverse through delimeters list\n",
    "        String delimeter = delimeters.get(i);  \n",
    "        if(delimeter == openDel){ \n",
    "            numOpen++; // increment open counter\n",
    "        }\n",
    "        else{\n",
    "            numClose++; // increment close counter\n",
    "        }\n",
    "        if(numClose >numClose) {\n",
    "            return false; // condition 1\n",
    "        }\n",
    "    }\n",
    "    if(numClose == numClose) {\n",
    "        return true; // requirement\n",
    "    }\n",
    "    else {\n",
    "        return false; \n",
    "    }\n",
    "}"
   ]
  },
  {
   "cell_type": "markdown",
   "metadata": {},
   "source": [
    "## FRQ 4 (Isabelle)\n",
    "- used the 2023 frq. [Link](https://apcentral.collegeboard.org/media/pdf/ap23-frq-comp-sci-a.pdf)"
   ]
  },
  {
   "cell_type": "code",
   "execution_count": null,
   "metadata": {
    "vscode": {
     "languageId": "java"
    }
   },
   "outputs": [],
   "source": [
    "// This question involves pieces of candy in a box. The Candy class represents a single piece of candy.\n",
    "public class Candy\n",
    "{\n",
    "    /** Returns a String representing the flavor of this piece of candy */\n",
    "    public String getFlavor()\n",
    "    { /* implementation not shown */ }\n",
    "    // There may be instance variables, constructors, and methods that are not shown.\n",
    "}\n",
    "/** The BoxOfCandy class represents a candy box where the candy is arranged in a rectangular grid. The\n",
    "instance variable of the class, box, is a rectangular two-dimensional array of Candy objects. A location\n",
    "in the candy box may contain a piece of candy or may be empty. A piece of candy is represented by a\n",
    "Candy object. An empty location is represented by null.\n",
    "You will write two methods of the BoxOfCandy class. */\n",
    "public class BoxOfCandy\n",
    "{\n",
    "    /** box contains at least one row and is initialized in the constructor. */\n",
    "    private Candy[][] box;\n",
    "    /**\n",
    "    * Moves one piece of candy in column col, if necessary and possible, so that the box\n",
    "    * element in row 0 of column col contains a piece of candy, as described in part (a).\n",
    "    * Returns false if there is no piece of candy in column col and returns true otherwise.\n",
    "    * Precondition: col is a valid column index in box.\n",
    "    */\n",
    "    public boolean moveCandyToFirstRow(int col)\n",
    "    { /* to be implemented in part (a) */ }\n",
    "    /**\n",
    "    * Removes from box and returns a piece of candy with flavor specified by the parameter, or\n",
    "    * returns null if no such piece is found, as described in part (b)\n",
    "    */\n",
    "    public Candy removeNextByFlavor(String flavor)\n",
    "    { /* to be implemented in part (b) */ }\n",
    "    // There may be instance variables, constructors, and methods that are not shown.\n",
    "}"
   ]
  },
  {
   "cell_type": "markdown",
   "metadata": {},
   "source": [
    "Part (a)\n",
    "- Write the moveCandyToFirstRow method, which attempts to ensure that the box element at row 0 and column col contains a piece of candy, using the following steps.\n",
    "\n",
    "    - If the element at row 0 and column col already contains a piece of candy, then box is unchanged and the method returns true.\n",
    "\n",
    "    - If the element at row 0 and column col does not contain a piece of candy, then the method searches the remaining rows of column col for a piece of candy. If a piece of candy can be found in column col, it is moved to row 0, its previous location is set to null, and the method returns true; otherwise, the method returns false.\n",
    "\n",
    "- In the following example, the grid represents the contents of box. An empty square in the grid is null in box. A non-empty square in the grid represents a box element that contains a Candy object. The string in the square of the grid indicates the flavor of the piece of candy.\n",
    "\n",
    "[frq4](/images/frq4.png)\n",
    "The method call moveCandyToFirstRow(0) returns false because the box element at row 0 and column 0 does not contain a piece of candy and there are no pieces of candy in column 0 that can be moved to row 0. The contents of box are unchanged.\n",
    "\n",
    "The method call moveCandyToFirstRow(1) returns true because the box element at row 0 and column 1 already contains a piece of candy. The contents of box are unchanged.\n",
    "\n",
    "The method call moveCandyToFirstRow(2) moves one of the two pieces of candy in column 2 to row 0 of column 2, sets the previous location of the piece of candy that was moved to null, and returns true. The new contents of box could be either of the following.\n",
    "\n",
    "[frq4a](/images/frq4a.png)"
   ]
  },
  {
   "cell_type": "code",
   "execution_count": null,
   "metadata": {
    "vscode": {
     "languageId": "java"
    }
   },
   "outputs": [],
   "source": [
    "public boolean moveCandyToFirstRow(int col) {\n",
    "    if(box[0][col] != null)\n",
    "        return true;\n",
    "    for(int r = 1; r < box.length; r++) {\n",
    "        if(box[r][col] != null){\n",
    "            box[0][col] = box[r][col];\n",
    "            box[r][col] = null;\n",
    "            return true;\n",
    "        }\n",
    "    }\n",
    "    return false;\n",
    "}"
   ]
  },
  {
   "cell_type": "markdown",
   "metadata": {},
   "source": [
    "Part (b)\n",
    "- Write the removeNextByFlavor method, which attempts to remove and return one piece of candy from the box. The piece of candy to be removed is the first piece of candy with a flavor equal to the parameter flavor that is encountered while traversing the candy box in the following order: the last row of the box is traversed from left to right, then the next-to-last row of the box is traversed from left toright, etc., until either a piece of candy with the desired flavor is found or until the entire candy box has been searched.\n",
    "\n",
    "- If the removeNextByFlavor method finds a Candy object with the desired flavor, the corresponding box element is assigned null, all other box elements are unchanged, and the removed Candy object is returned. Otherwise, box is unchanged and the method returns null.\n",
    "\n",
    "- The following examples show three consecutive calls to the removeNextByFlavor method. The traversal of the candy box always begins in the last row and first column of the box.\n",
    "\n",
    "- The following grid shows the contents of box before any of the removeNextByFlavor method calls.\n",
    "\n",
    "[frq4b1](/images/frq4b1.png)\n",
    "The method call removeNextByFlavor(\"cherry\") removes and returns the Candy object located in row 2 and column 0. The following grid shows the updated contents of box.\n",
    "\n",
    "[frq4b2](/images/frq4b2.png)\n",
    "The method call removeNextByFlavor(\"cherry\") removes and returns the Candy object located in row 2 and column 0. The following grid shows the updated contents of box.\n",
    "\n",
    "[frq4b3](/images/frq4b3.png)\n",
    "The method call removeNextByFlavor(\"grape\") returns null because no grape-flavored candy is found. The contents of box are unchanged. Complete the removeNextByFlavor method.\n",
    "\n"
   ]
  },
  {
   "cell_type": "code",
   "execution_count": null,
   "metadata": {
    "vscode": {
     "languageId": "java"
    }
   },
   "outputs": [],
   "source": [
    "public Candy removeNextByFlavor(String flavor)\n",
    "{\n",
    "    for(int r = box.length - 1; r >= 0; r--)\n",
    "    {\n",
    "        for(int c = 0; c < box[0].length; c++)\n",
    "        {\n",
    "            if(box[r][c] != null &&\n",
    "                    box[r][c].getFlavor().equals(flavor))\n",
    "            {\n",
    "                Candy selected = box[r][c];\n",
    "                box[r][c] = null;\n",
    "                return selected;\n",
    "            }\n",
    "        }\n",
    "    }\n",
    "    \n",
    "    return null;\n",
    "}"
   ]
  }
 ],
 "metadata": {
  "language_info": {
   "name": "python"
  },
  "orig_nbformat": 4
 },
 "nbformat": 4,
 "nbformat_minor": 2
}
